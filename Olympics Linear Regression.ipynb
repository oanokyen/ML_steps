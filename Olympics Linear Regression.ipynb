{
 "cells": [
  {
   "cell_type": "markdown",
   "id": "e2187634",
   "metadata": {},
   "source": [
    "# Predicting Olympics Medals from Historic data "
   ]
  },
  {
   "cell_type": "markdown",
   "id": "14a01097",
   "metadata": {},
   "source": [
    "`Open Data from Kaggle on the number of medals won by each country.` \n",
    "Data can be downloaded from Kaggle. "
   ]
  },
  {
   "cell_type": "code",
   "execution_count": 1,
   "id": "fe61ea89",
   "metadata": {},
   "outputs": [],
   "source": [
    "#import libraries\n",
    "import numpy as np\n",
    "import pandas as pd\n",
    "import matplotlib.pyplot as plt\n",
    "from sklearn.linear_model import SGDRegressor\n",
    "from sklearn.linear_model import LinearRegression\n",
    "from sklearn.metrics import r2_score \n",
    "from sklearn.preprocessing import StandardScaler\n",
    "import math\n",
    "pd.options.display.max_rows = 3000"
   ]
  },
  {
   "cell_type": "code",
   "execution_count": 2,
   "id": "384c1468",
   "metadata": {},
   "outputs": [],
   "source": [
    "olympics  = pd.read_csv('Data/olympicsteams.csv')"
   ]
  },
  {
   "cell_type": "code",
   "execution_count": 3,
   "id": "6a9f6806",
   "metadata": {
    "scrolled": true
   },
   "outputs": [
    {
     "data": {
      "text/html": [
       "<div>\n",
       "<style scoped>\n",
       "    .dataframe tbody tr th:only-of-type {\n",
       "        vertical-align: middle;\n",
       "    }\n",
       "\n",
       "    .dataframe tbody tr th {\n",
       "        vertical-align: top;\n",
       "    }\n",
       "\n",
       "    .dataframe thead th {\n",
       "        text-align: right;\n",
       "    }\n",
       "</style>\n",
       "<table border=\"1\" class=\"dataframe\">\n",
       "  <thead>\n",
       "    <tr style=\"text-align: right;\">\n",
       "      <th></th>\n",
       "      <th>team</th>\n",
       "      <th>year</th>\n",
       "      <th>athletes</th>\n",
       "      <th>events</th>\n",
       "      <th>age</th>\n",
       "      <th>height</th>\n",
       "      <th>weight</th>\n",
       "      <th>prev_medals</th>\n",
       "      <th>medals</th>\n",
       "    </tr>\n",
       "  </thead>\n",
       "  <tbody>\n",
       "    <tr>\n",
       "      <th>0</th>\n",
       "      <td>AFG</td>\n",
       "      <td>1964</td>\n",
       "      <td>8</td>\n",
       "      <td>8</td>\n",
       "      <td>22.0</td>\n",
       "      <td>161.0</td>\n",
       "      <td>64.2</td>\n",
       "      <td>0.0</td>\n",
       "      <td>0</td>\n",
       "    </tr>\n",
       "    <tr>\n",
       "      <th>1</th>\n",
       "      <td>AFG</td>\n",
       "      <td>1968</td>\n",
       "      <td>5</td>\n",
       "      <td>5</td>\n",
       "      <td>23.2</td>\n",
       "      <td>170.2</td>\n",
       "      <td>70.0</td>\n",
       "      <td>0.0</td>\n",
       "      <td>0</td>\n",
       "    </tr>\n",
       "    <tr>\n",
       "      <th>2</th>\n",
       "      <td>AFG</td>\n",
       "      <td>1972</td>\n",
       "      <td>8</td>\n",
       "      <td>8</td>\n",
       "      <td>29.0</td>\n",
       "      <td>168.3</td>\n",
       "      <td>63.8</td>\n",
       "      <td>0.0</td>\n",
       "      <td>0</td>\n",
       "    </tr>\n",
       "    <tr>\n",
       "      <th>3</th>\n",
       "      <td>AFG</td>\n",
       "      <td>1980</td>\n",
       "      <td>11</td>\n",
       "      <td>11</td>\n",
       "      <td>23.6</td>\n",
       "      <td>168.4</td>\n",
       "      <td>63.2</td>\n",
       "      <td>0.0</td>\n",
       "      <td>0</td>\n",
       "    </tr>\n",
       "    <tr>\n",
       "      <th>4</th>\n",
       "      <td>AFG</td>\n",
       "      <td>2004</td>\n",
       "      <td>5</td>\n",
       "      <td>5</td>\n",
       "      <td>18.6</td>\n",
       "      <td>170.8</td>\n",
       "      <td>64.8</td>\n",
       "      <td>0.0</td>\n",
       "      <td>0</td>\n",
       "    </tr>\n",
       "    <tr>\n",
       "      <th>5</th>\n",
       "      <td>AFG</td>\n",
       "      <td>2008</td>\n",
       "      <td>4</td>\n",
       "      <td>4</td>\n",
       "      <td>22.5</td>\n",
       "      <td>179.2</td>\n",
       "      <td>62.8</td>\n",
       "      <td>0.0</td>\n",
       "      <td>1</td>\n",
       "    </tr>\n",
       "    <tr>\n",
       "      <th>6</th>\n",
       "      <td>AFG</td>\n",
       "      <td>2012</td>\n",
       "      <td>6</td>\n",
       "      <td>6</td>\n",
       "      <td>24.8</td>\n",
       "      <td>171.7</td>\n",
       "      <td>60.8</td>\n",
       "      <td>1.0</td>\n",
       "      <td>1</td>\n",
       "    </tr>\n",
       "    <tr>\n",
       "      <th>7</th>\n",
       "      <td>AFG</td>\n",
       "      <td>2016</td>\n",
       "      <td>3</td>\n",
       "      <td>3</td>\n",
       "      <td>24.7</td>\n",
       "      <td>173.7</td>\n",
       "      <td>74.0</td>\n",
       "      <td>1.0</td>\n",
       "      <td>0</td>\n",
       "    </tr>\n",
       "    <tr>\n",
       "      <th>8</th>\n",
       "      <td>AHO</td>\n",
       "      <td>1964</td>\n",
       "      <td>4</td>\n",
       "      <td>4</td>\n",
       "      <td>28.5</td>\n",
       "      <td>171.2</td>\n",
       "      <td>69.4</td>\n",
       "      <td>0.0</td>\n",
       "      <td>0</td>\n",
       "    </tr>\n",
       "    <tr>\n",
       "      <th>9</th>\n",
       "      <td>AHO</td>\n",
       "      <td>1968</td>\n",
       "      <td>5</td>\n",
       "      <td>4</td>\n",
       "      <td>31.0</td>\n",
       "      <td>173.2</td>\n",
       "      <td>67.8</td>\n",
       "      <td>0.0</td>\n",
       "      <td>0</td>\n",
       "    </tr>\n",
       "  </tbody>\n",
       "</table>\n",
       "</div>"
      ],
      "text/plain": [
       "  team  year  athletes  events   age  height  weight  prev_medals  medals\n",
       "0  AFG  1964         8       8  22.0   161.0    64.2          0.0       0\n",
       "1  AFG  1968         5       5  23.2   170.2    70.0          0.0       0\n",
       "2  AFG  1972         8       8  29.0   168.3    63.8          0.0       0\n",
       "3  AFG  1980        11      11  23.6   168.4    63.2          0.0       0\n",
       "4  AFG  2004         5       5  18.6   170.8    64.8          0.0       0\n",
       "5  AFG  2008         4       4  22.5   179.2    62.8          0.0       1\n",
       "6  AFG  2012         6       6  24.8   171.7    60.8          1.0       1\n",
       "7  AFG  2016         3       3  24.7   173.7    74.0          1.0       0\n",
       "8  AHO  1964         4       4  28.5   171.2    69.4          0.0       0\n",
       "9  AHO  1968         5       4  31.0   173.2    67.8          0.0       0"
      ]
     },
     "execution_count": 3,
     "metadata": {},
     "output_type": "execute_result"
    }
   ],
   "source": [
    "#preview dataframe\n",
    "olympics.head(10)"
   ]
  },
  {
   "cell_type": "markdown",
   "id": "1d74478c",
   "metadata": {},
   "source": [
    "### Feature Selection"
   ]
  },
  {
   "cell_type": "code",
   "execution_count": 4,
   "id": "a119889f",
   "metadata": {},
   "outputs": [
    {
     "data": {
      "text/html": [
       "<div>\n",
       "<style scoped>\n",
       "    .dataframe tbody tr th:only-of-type {\n",
       "        vertical-align: middle;\n",
       "    }\n",
       "\n",
       "    .dataframe tbody tr th {\n",
       "        vertical-align: top;\n",
       "    }\n",
       "\n",
       "    .dataframe thead th {\n",
       "        text-align: right;\n",
       "    }\n",
       "</style>\n",
       "<table border=\"1\" class=\"dataframe\">\n",
       "  <thead>\n",
       "    <tr style=\"text-align: right;\">\n",
       "      <th></th>\n",
       "      <th>year</th>\n",
       "      <th>athletes</th>\n",
       "      <th>events</th>\n",
       "      <th>age</th>\n",
       "      <th>height</th>\n",
       "      <th>weight</th>\n",
       "      <th>prev_medals</th>\n",
       "      <th>medals</th>\n",
       "    </tr>\n",
       "  </thead>\n",
       "  <tbody>\n",
       "    <tr>\n",
       "      <th>year</th>\n",
       "      <td>1.000000</td>\n",
       "      <td>-0.078059</td>\n",
       "      <td>-0.039492</td>\n",
       "      <td>-0.013355</td>\n",
       "      <td>-0.011517</td>\n",
       "      <td>0.024624</td>\n",
       "      <td>-0.017917</td>\n",
       "      <td>-0.034870</td>\n",
       "    </tr>\n",
       "    <tr>\n",
       "      <th>athletes</th>\n",
       "      <td>-0.078059</td>\n",
       "      <td>1.000000</td>\n",
       "      <td>0.976563</td>\n",
       "      <td>0.035079</td>\n",
       "      <td>0.188917</td>\n",
       "      <td>0.108703</td>\n",
       "      <td>0.810576</td>\n",
       "      <td>0.839909</td>\n",
       "    </tr>\n",
       "    <tr>\n",
       "      <th>events</th>\n",
       "      <td>-0.039492</td>\n",
       "      <td>0.976563</td>\n",
       "      <td>1.000000</td>\n",
       "      <td>0.053747</td>\n",
       "      <td>0.211017</td>\n",
       "      <td>0.125992</td>\n",
       "      <td>0.752264</td>\n",
       "      <td>0.770646</td>\n",
       "    </tr>\n",
       "    <tr>\n",
       "      <th>age</th>\n",
       "      <td>-0.013355</td>\n",
       "      <td>0.035079</td>\n",
       "      <td>0.053747</td>\n",
       "      <td>1.000000</td>\n",
       "      <td>0.173711</td>\n",
       "      <td>0.213656</td>\n",
       "      <td>0.032596</td>\n",
       "      <td>0.023231</td>\n",
       "    </tr>\n",
       "    <tr>\n",
       "      <th>height</th>\n",
       "      <td>-0.011517</td>\n",
       "      <td>0.188917</td>\n",
       "      <td>0.211017</td>\n",
       "      <td>0.173711</td>\n",
       "      <td>1.000000</td>\n",
       "      <td>0.685961</td>\n",
       "      <td>0.138682</td>\n",
       "      <td>0.141946</td>\n",
       "    </tr>\n",
       "    <tr>\n",
       "      <th>weight</th>\n",
       "      <td>0.024624</td>\n",
       "      <td>0.108703</td>\n",
       "      <td>0.125992</td>\n",
       "      <td>0.213656</td>\n",
       "      <td>0.685961</td>\n",
       "      <td>1.000000</td>\n",
       "      <td>0.088706</td>\n",
       "      <td>0.089701</td>\n",
       "    </tr>\n",
       "    <tr>\n",
       "      <th>prev_medals</th>\n",
       "      <td>-0.017917</td>\n",
       "      <td>0.810576</td>\n",
       "      <td>0.752264</td>\n",
       "      <td>0.032596</td>\n",
       "      <td>0.138682</td>\n",
       "      <td>0.088706</td>\n",
       "      <td>1.000000</td>\n",
       "      <td>0.920048</td>\n",
       "    </tr>\n",
       "    <tr>\n",
       "      <th>medals</th>\n",
       "      <td>-0.034870</td>\n",
       "      <td>0.839909</td>\n",
       "      <td>0.770646</td>\n",
       "      <td>0.023231</td>\n",
       "      <td>0.141946</td>\n",
       "      <td>0.089701</td>\n",
       "      <td>0.920048</td>\n",
       "      <td>1.000000</td>\n",
       "    </tr>\n",
       "  </tbody>\n",
       "</table>\n",
       "</div>"
      ],
      "text/plain": [
       "                 year  athletes    events       age    height    weight  \\\n",
       "year         1.000000 -0.078059 -0.039492 -0.013355 -0.011517  0.024624   \n",
       "athletes    -0.078059  1.000000  0.976563  0.035079  0.188917  0.108703   \n",
       "events      -0.039492  0.976563  1.000000  0.053747  0.211017  0.125992   \n",
       "age         -0.013355  0.035079  0.053747  1.000000  0.173711  0.213656   \n",
       "height      -0.011517  0.188917  0.211017  0.173711  1.000000  0.685961   \n",
       "weight       0.024624  0.108703  0.125992  0.213656  0.685961  1.000000   \n",
       "prev_medals -0.017917  0.810576  0.752264  0.032596  0.138682  0.088706   \n",
       "medals      -0.034870  0.839909  0.770646  0.023231  0.141946  0.089701   \n",
       "\n",
       "             prev_medals    medals  \n",
       "year           -0.017917 -0.034870  \n",
       "athletes        0.810576  0.839909  \n",
       "events          0.752264  0.770646  \n",
       "age             0.032596  0.023231  \n",
       "height          0.138682  0.141946  \n",
       "weight          0.088706  0.089701  \n",
       "prev_medals     1.000000  0.920048  \n",
       "medals          0.920048  1.000000  "
      ]
     },
     "execution_count": 4,
     "metadata": {},
     "output_type": "execute_result"
    }
   ],
   "source": [
    "olympics.corr()"
   ]
  },
  {
   "cell_type": "markdown",
   "id": "4978adec",
   "metadata": {},
   "source": [
    "Based on the coprrelation above, *athletes*, *prev_medals*, *medals* are selected. \n",
    "We need team and year to identify & classify the results."
   ]
  },
  {
   "cell_type": "code",
   "execution_count": 5,
   "id": "c94f1770",
   "metadata": {},
   "outputs": [],
   "source": [
    "selected = olympics[['team','year','events','athletes','prev_medals','medals']]"
   ]
  },
  {
   "cell_type": "code",
   "execution_count": 6,
   "id": "4be38946",
   "metadata": {
    "scrolled": true
   },
   "outputs": [
    {
     "data": {
      "text/html": [
       "<div>\n",
       "<style scoped>\n",
       "    .dataframe tbody tr th:only-of-type {\n",
       "        vertical-align: middle;\n",
       "    }\n",
       "\n",
       "    .dataframe tbody tr th {\n",
       "        vertical-align: top;\n",
       "    }\n",
       "\n",
       "    .dataframe thead th {\n",
       "        text-align: right;\n",
       "    }\n",
       "</style>\n",
       "<table border=\"1\" class=\"dataframe\">\n",
       "  <thead>\n",
       "    <tr style=\"text-align: right;\">\n",
       "      <th></th>\n",
       "      <th>team</th>\n",
       "      <th>year</th>\n",
       "      <th>events</th>\n",
       "      <th>athletes</th>\n",
       "      <th>prev_medals</th>\n",
       "      <th>medals</th>\n",
       "    </tr>\n",
       "  </thead>\n",
       "  <tbody>\n",
       "    <tr>\n",
       "      <th>0</th>\n",
       "      <td>AFG</td>\n",
       "      <td>1964</td>\n",
       "      <td>8</td>\n",
       "      <td>8</td>\n",
       "      <td>0.0</td>\n",
       "      <td>0</td>\n",
       "    </tr>\n",
       "    <tr>\n",
       "      <th>1</th>\n",
       "      <td>AFG</td>\n",
       "      <td>1968</td>\n",
       "      <td>5</td>\n",
       "      <td>5</td>\n",
       "      <td>0.0</td>\n",
       "      <td>0</td>\n",
       "    </tr>\n",
       "    <tr>\n",
       "      <th>2</th>\n",
       "      <td>AFG</td>\n",
       "      <td>1972</td>\n",
       "      <td>8</td>\n",
       "      <td>8</td>\n",
       "      <td>0.0</td>\n",
       "      <td>0</td>\n",
       "    </tr>\n",
       "    <tr>\n",
       "      <th>3</th>\n",
       "      <td>AFG</td>\n",
       "      <td>1980</td>\n",
       "      <td>11</td>\n",
       "      <td>11</td>\n",
       "      <td>0.0</td>\n",
       "      <td>0</td>\n",
       "    </tr>\n",
       "    <tr>\n",
       "      <th>4</th>\n",
       "      <td>AFG</td>\n",
       "      <td>2004</td>\n",
       "      <td>5</td>\n",
       "      <td>5</td>\n",
       "      <td>0.0</td>\n",
       "      <td>0</td>\n",
       "    </tr>\n",
       "    <tr>\n",
       "      <th>5</th>\n",
       "      <td>AFG</td>\n",
       "      <td>2008</td>\n",
       "      <td>4</td>\n",
       "      <td>4</td>\n",
       "      <td>0.0</td>\n",
       "      <td>1</td>\n",
       "    </tr>\n",
       "    <tr>\n",
       "      <th>6</th>\n",
       "      <td>AFG</td>\n",
       "      <td>2012</td>\n",
       "      <td>6</td>\n",
       "      <td>6</td>\n",
       "      <td>1.0</td>\n",
       "      <td>1</td>\n",
       "    </tr>\n",
       "    <tr>\n",
       "      <th>7</th>\n",
       "      <td>AFG</td>\n",
       "      <td>2016</td>\n",
       "      <td>3</td>\n",
       "      <td>3</td>\n",
       "      <td>1.0</td>\n",
       "      <td>0</td>\n",
       "    </tr>\n",
       "    <tr>\n",
       "      <th>8</th>\n",
       "      <td>AHO</td>\n",
       "      <td>1964</td>\n",
       "      <td>4</td>\n",
       "      <td>4</td>\n",
       "      <td>0.0</td>\n",
       "      <td>0</td>\n",
       "    </tr>\n",
       "    <tr>\n",
       "      <th>9</th>\n",
       "      <td>AHO</td>\n",
       "      <td>1968</td>\n",
       "      <td>4</td>\n",
       "      <td>5</td>\n",
       "      <td>0.0</td>\n",
       "      <td>0</td>\n",
       "    </tr>\n",
       "  </tbody>\n",
       "</table>\n",
       "</div>"
      ],
      "text/plain": [
       "  team  year  events  athletes  prev_medals  medals\n",
       "0  AFG  1964       8         8          0.0       0\n",
       "1  AFG  1968       5         5          0.0       0\n",
       "2  AFG  1972       8         8          0.0       0\n",
       "3  AFG  1980      11        11          0.0       0\n",
       "4  AFG  2004       5         5          0.0       0\n",
       "5  AFG  2008       4         4          0.0       1\n",
       "6  AFG  2012       6         6          1.0       1\n",
       "7  AFG  2016       3         3          1.0       0\n",
       "8  AHO  1964       4         4          0.0       0\n",
       "9  AHO  1968       4         5          0.0       0"
      ]
     },
     "execution_count": 6,
     "metadata": {},
     "output_type": "execute_result"
    }
   ],
   "source": [
    "selected.head(10)"
   ]
  },
  {
   "cell_type": "code",
   "execution_count": 7,
   "id": "a93f43fb",
   "metadata": {},
   "outputs": [
    {
     "data": {
      "image/png": "[encoded data removed]",
      "text/plain": [
       "<Figure size 864x216 with 3 Axes>"
      ]
     },
     "metadata": {
      "needs_background": "light"
     },
     "output_type": "display_data"
    }
   ],
   "source": [
    "fig,(ax1,ax2,ax3)=plt.subplots(1, 3, figsize=(12, 3), sharey=True)\n",
    "ax1.scatter(selected['events'],selected['medals'])\n",
    "ax1.set_xlabel('Events')\n",
    "ax2.scatter(selected['athletes'],selected['medals'])\n",
    "ax2.set_xlabel('Athletes')\n",
    "ax3.scatter(selected['prev_medals'],selected['medals'])\n",
    "ax3.set_xlabel('Previous Medals')\n",
    "\n",
    "ax1.set_ylabel(\"Medals\")\n",
    "plt.show()"
   ]
  },
  {
   "cell_type": "code",
   "execution_count": 8,
   "id": "eeb97a03",
   "metadata": {},
   "outputs": [
    {
     "data": {
      "text/plain": [
       "team            object\n",
       "year             int64\n",
       "events           int64\n",
       "athletes         int64\n",
       "prev_medals    float64\n",
       "medals           int64\n",
       "dtype: object"
      ]
     },
     "execution_count": 8,
     "metadata": {},
     "output_type": "execute_result"
    }
   ],
   "source": [
    "selected.dtypes"
   ]
  },
  {
   "cell_type": "code",
   "execution_count": 9,
   "id": "f60988ae",
   "metadata": {},
   "outputs": [
    {
     "data": {
      "text/html": [
       "<div>\n",
       "<style scoped>\n",
       "    .dataframe tbody tr th:only-of-type {\n",
       "        vertical-align: middle;\n",
       "    }\n",
       "\n",
       "    .dataframe tbody tr th {\n",
       "        vertical-align: top;\n",
       "    }\n",
       "\n",
       "    .dataframe thead th {\n",
       "        text-align: right;\n",
       "    }\n",
       "</style>\n",
       "<table border=\"1\" class=\"dataframe\">\n",
       "  <thead>\n",
       "    <tr style=\"text-align: right;\">\n",
       "      <th></th>\n",
       "      <th>year</th>\n",
       "      <th>events</th>\n",
       "      <th>athletes</th>\n",
       "      <th>prev_medals</th>\n",
       "      <th>medals</th>\n",
       "    </tr>\n",
       "  </thead>\n",
       "  <tbody>\n",
       "    <tr>\n",
       "      <th>count</th>\n",
       "      <td>2014.000000</td>\n",
       "      <td>2014.000000</td>\n",
       "      <td>2014.000000</td>\n",
       "      <td>2014.000000</td>\n",
       "      <td>2014.000000</td>\n",
       "    </tr>\n",
       "    <tr>\n",
       "      <th>mean</th>\n",
       "      <td>1995.227408</td>\n",
       "      <td>36.877855</td>\n",
       "      <td>76.329692</td>\n",
       "      <td>10.248759</td>\n",
       "      <td>10.990070</td>\n",
       "    </tr>\n",
       "    <tr>\n",
       "      <th>std</th>\n",
       "      <td>15.227727</td>\n",
       "      <td>50.130877</td>\n",
       "      <td>129.799427</td>\n",
       "      <td>31.951920</td>\n",
       "      <td>33.627528</td>\n",
       "    </tr>\n",
       "    <tr>\n",
       "      <th>min</th>\n",
       "      <td>1964.000000</td>\n",
       "      <td>1.000000</td>\n",
       "      <td>1.000000</td>\n",
       "      <td>0.000000</td>\n",
       "      <td>0.000000</td>\n",
       "    </tr>\n",
       "    <tr>\n",
       "      <th>25%</th>\n",
       "      <td>1984.000000</td>\n",
       "      <td>6.000000</td>\n",
       "      <td>7.000000</td>\n",
       "      <td>0.000000</td>\n",
       "      <td>0.000000</td>\n",
       "    </tr>\n",
       "    <tr>\n",
       "      <th>50%</th>\n",
       "      <td>1996.000000</td>\n",
       "      <td>14.000000</td>\n",
       "      <td>21.000000</td>\n",
       "      <td>0.000000</td>\n",
       "      <td>0.000000</td>\n",
       "    </tr>\n",
       "    <tr>\n",
       "      <th>75%</th>\n",
       "      <td>2008.000000</td>\n",
       "      <td>47.000000</td>\n",
       "      <td>74.750000</td>\n",
       "      <td>4.000000</td>\n",
       "      <td>5.000000</td>\n",
       "    </tr>\n",
       "    <tr>\n",
       "      <th>max</th>\n",
       "      <td>2016.000000</td>\n",
       "      <td>270.000000</td>\n",
       "      <td>839.000000</td>\n",
       "      <td>442.000000</td>\n",
       "      <td>442.000000</td>\n",
       "    </tr>\n",
       "  </tbody>\n",
       "</table>\n",
       "</div>"
      ],
      "text/plain": [
       "              year       events     athletes  prev_medals       medals\n",
       "count  2014.000000  2014.000000  2014.000000  2014.000000  2014.000000\n",
       "mean   1995.227408    36.877855    76.329692    10.248759    10.990070\n",
       "std      15.227727    50.130877   129.799427    31.951920    33.627528\n",
       "min    1964.000000     1.000000     1.000000     0.000000     0.000000\n",
       "25%    1984.000000     6.000000     7.000000     0.000000     0.000000\n",
       "50%    1996.000000    14.000000    21.000000     0.000000     0.000000\n",
       "75%    2008.000000    47.000000    74.750000     4.000000     5.000000\n",
       "max    2016.000000   270.000000   839.000000   442.000000   442.000000"
      ]
     },
     "execution_count": 9,
     "metadata": {},
     "output_type": "execute_result"
    }
   ],
   "source": [
    "selected.describe()"
   ]
  },
  {
   "cell_type": "code",
   "execution_count": 10,
   "id": "83cbb842",
   "metadata": {},
   "outputs": [],
   "source": [
    "X_features=['events','athletes','prev_medals']"
   ]
  },
  {
   "cell_type": "code",
   "execution_count": 11,
   "id": "3eddd110",
   "metadata": {},
   "outputs": [],
   "source": [
    "train_df = selected[selected['year']<2012]\n",
    "test_df  = selected[selected['year']>=2012]\n",
    "X_train=np.array(train_df[['events','athletes','prev_medals']])\n",
    "y_train=np.array(train_df['medals'])\n",
    "non_normalised_test_df=test_df.copy()"
   ]
  },
  {
   "cell_type": "markdown",
   "id": "6355ee38",
   "metadata": {},
   "source": [
    "### Without Normalizing"
   ]
  },
  {
   "cell_type": "code",
   "execution_count": 12,
   "id": "6f422075",
   "metadata": {},
   "outputs": [
    {
     "data": {
      "text/plain": [
       "LinearRegression()"
      ]
     },
     "execution_count": 12,
     "metadata": {},
     "output_type": "execute_result"
    }
   ],
   "source": [
    "sgdr = LinearRegression()\n",
    "sgdr.fit(X_train,y_train)"
   ]
  },
  {
   "cell_type": "code",
   "execution_count": 13,
   "id": "9aee9b3a",
   "metadata": {},
   "outputs": [
    {
     "name": "stdout",
     "output_type": "stream",
     "text": [
      "model parameters:                   w: [-0.39594646  0.23195354  0.68192424], b:0.7166644774008013\n"
     ]
    }
   ],
   "source": [
    "b = sgdr.intercept_\n",
    "w = sgdr.coef_\n",
    "print(f\"model parameters:                   w: {w}, b:{b}\")"
   ]
  },
  {
   "cell_type": "code",
   "execution_count": 14,
   "id": "2c3ed368",
   "metadata": {},
   "outputs": [
    {
     "name": "stdout",
     "output_type": "stream",
     "text": [
      "prediction using np.dot() and sgdr.predict match: True\n",
      "Prediction on training set:\n",
      "[-0.59527893 -0.10330015 -0.59527893 -1.0872577 ]\n",
      "Target values \n",
      "[0 0 0 0]\n"
     ]
    }
   ],
   "source": [
    "# make a prediction using sgdr.predict()\n",
    "y_pred_sgd = sgdr.predict(X_train)\n",
    "# make a prediction using w,b. \n",
    "y_pred = np.dot(X_train, w) + b \n",
    "print(f\"prediction using np.dot() and sgdr.predict match: {(y_pred == y_pred_sgd).all()}\")\n",
    "\n",
    "print(f\"Prediction on training set:\\n{y_pred[:4]}\" )\n",
    "print(f\"Target values \\n{y_train[:4]}\")"
   ]
  },
  {
   "cell_type": "code",
   "execution_count": 15,
   "id": "9824353e",
   "metadata": {
    "scrolled": true
   },
   "outputs": [
    {
     "data": {
      "image/png": "[encoded data removed]",
      "text/plain": [
       "<Figure size 864x216 with 3 Axes>"
      ]
     },
     "metadata": {
      "needs_background": "light"
     },
     "output_type": "display_data"
    }
   ],
   "source": [
    "# plot predictions and targets vs original features    \n",
    "fig,ax=plt.subplots(1,3,figsize=(12,3),sharey=True)\n",
    "for i in range(len(ax)):\n",
    "    ax[i].scatter(X_train[:,i],y_train, label = 'target_train')\n",
    "    ax[i].set_xlabel(X_features[i])\n",
    "    ax[i].scatter(X_train[:,i],y_pred,color='g', label = 'predict_train')\n",
    "ax[0].set_ylabel(\"Medals\"); ax[0].legend();\n",
    "fig.suptitle(\"target versus prediction without normalising\")\n",
    "plt.show()"
   ]
  },
  {
   "cell_type": "markdown",
   "id": "8a12e219",
   "metadata": {},
   "source": [
    "### Test the Model"
   ]
  },
  {
   "cell_type": "code",
   "execution_count": 16,
   "id": "d0bda5d4",
   "metadata": {},
   "outputs": [],
   "source": [
    "X_test=np.array(test_df[['events','athletes','prev_medals']])\n",
    "y_test=np.array(test_df['medals'])"
   ]
  },
  {
   "cell_type": "code",
   "execution_count": 17,
   "id": "be65997e",
   "metadata": {},
   "outputs": [],
   "source": [
    "y_test_pred = sgdr.predict(X_test)"
   ]
  },
  {
   "cell_type": "code",
   "execution_count": 18,
   "id": "9e023b24",
   "metadata": {},
   "outputs": [
    {
     "data": {
      "text/plain": [
       "(405,)"
      ]
     },
     "execution_count": 18,
     "metadata": {},
     "output_type": "execute_result"
    }
   ],
   "source": [
    "y_test_pred.shape"
   ]
  },
  {
   "cell_type": "code",
   "execution_count": 19,
   "id": "e86ee2cc",
   "metadata": {},
   "outputs": [
    {
     "data": {
      "image/png": "[encoded data removed]",
      "text/plain": [
       "<Figure size 864x216 with 3 Axes>"
      ]
     },
     "metadata": {
      "needs_background": "light"
     },
     "output_type": "display_data"
    }
   ],
   "source": [
    "fig,ax=plt.subplots(1,3,figsize=(12,3),sharey=True)\n",
    "for i in range(len(ax)):\n",
    "    ax[i].scatter(X_test[:,i],y_test, label = 'target_test')\n",
    "    ax[i].set_xlabel(X_features[i])\n",
    "    ax[i].scatter(X_test[:,i],y_test_pred,color='r', label = 'predict_test')\n",
    "ax[0].set_ylabel(\"Medals\"); ax[0].legend();\n",
    "fig.suptitle(\"target versus prediction using z-score normalized model\")\n",
    "plt.show()"
   ]
  },
  {
   "cell_type": "markdown",
   "id": "cba552fc",
   "metadata": {},
   "source": [
    "#### Converted all negative predictions to Zero since that does not make sense. Rounded predictions to whole numbers"
   ]
  },
  {
   "cell_type": "code",
   "execution_count": 20,
   "id": "6cb9cb67",
   "metadata": {
    "scrolled": true
   },
   "outputs": [],
   "source": [
    "#test_df['pred']=np.where(Y_test_pred<0,0,np.round(Y_test_pred))\n",
    "\n",
    "non_normalised_test_df['pred']=np.where(y_test_pred<0,0,np.round(y_test_pred))"
   ]
  },
  {
   "cell_type": "code",
   "execution_count": 21,
   "id": "b068b4d0",
   "metadata": {
    "scrolled": true
   },
   "outputs": [
    {
     "data": {
      "text/html": [
       "<div>\n",
       "<style scoped>\n",
       "    .dataframe tbody tr th:only-of-type {\n",
       "        vertical-align: middle;\n",
       "    }\n",
       "\n",
       "    .dataframe tbody tr th {\n",
       "        vertical-align: top;\n",
       "    }\n",
       "\n",
       "    .dataframe thead th {\n",
       "        text-align: right;\n",
       "    }\n",
       "</style>\n",
       "<table border=\"1\" class=\"dataframe\">\n",
       "  <thead>\n",
       "    <tr style=\"text-align: right;\">\n",
       "      <th></th>\n",
       "      <th>team</th>\n",
       "      <th>year</th>\n",
       "      <th>events</th>\n",
       "      <th>athletes</th>\n",
       "      <th>prev_medals</th>\n",
       "      <th>medals</th>\n",
       "      <th>pred</th>\n",
       "    </tr>\n",
       "  </thead>\n",
       "  <tbody>\n",
       "    <tr>\n",
       "      <th>6</th>\n",
       "      <td>AFG</td>\n",
       "      <td>2012</td>\n",
       "      <td>6</td>\n",
       "      <td>6</td>\n",
       "      <td>1.0</td>\n",
       "      <td>1</td>\n",
       "      <td>0.0</td>\n",
       "    </tr>\n",
       "    <tr>\n",
       "      <th>7</th>\n",
       "      <td>AFG</td>\n",
       "      <td>2016</td>\n",
       "      <td>3</td>\n",
       "      <td>3</td>\n",
       "      <td>1.0</td>\n",
       "      <td>0</td>\n",
       "      <td>1.0</td>\n",
       "    </tr>\n",
       "    <tr>\n",
       "      <th>23</th>\n",
       "      <td>ALB</td>\n",
       "      <td>2012</td>\n",
       "      <td>9</td>\n",
       "      <td>10</td>\n",
       "      <td>0.0</td>\n",
       "      <td>0</td>\n",
       "      <td>0.0</td>\n",
       "    </tr>\n",
       "    <tr>\n",
       "      <th>24</th>\n",
       "      <td>ALB</td>\n",
       "      <td>2016</td>\n",
       "      <td>6</td>\n",
       "      <td>6</td>\n",
       "      <td>0.0</td>\n",
       "      <td>0</td>\n",
       "      <td>0.0</td>\n",
       "    </tr>\n",
       "    <tr>\n",
       "      <th>35</th>\n",
       "      <td>ALG</td>\n",
       "      <td>2012</td>\n",
       "      <td>29</td>\n",
       "      <td>39</td>\n",
       "      <td>2.0</td>\n",
       "      <td>1</td>\n",
       "      <td>0.0</td>\n",
       "    </tr>\n",
       "    <tr>\n",
       "      <th>36</th>\n",
       "      <td>ALG</td>\n",
       "      <td>2016</td>\n",
       "      <td>48</td>\n",
       "      <td>74</td>\n",
       "      <td>1.0</td>\n",
       "      <td>2</td>\n",
       "      <td>0.0</td>\n",
       "    </tr>\n",
       "    <tr>\n",
       "      <th>45</th>\n",
       "      <td>AND</td>\n",
       "      <td>2012</td>\n",
       "      <td>6</td>\n",
       "      <td>6</td>\n",
       "      <td>0.0</td>\n",
       "      <td>0</td>\n",
       "      <td>0.0</td>\n",
       "    </tr>\n",
       "    <tr>\n",
       "      <th>46</th>\n",
       "      <td>AND</td>\n",
       "      <td>2016</td>\n",
       "      <td>4</td>\n",
       "      <td>4</td>\n",
       "      <td>0.0</td>\n",
       "      <td>0</td>\n",
       "      <td>0.0</td>\n",
       "    </tr>\n",
       "    <tr>\n",
       "      <th>53</th>\n",
       "      <td>ANG</td>\n",
       "      <td>2012</td>\n",
       "      <td>10</td>\n",
       "      <td>35</td>\n",
       "      <td>0.0</td>\n",
       "      <td>0</td>\n",
       "      <td>5.0</td>\n",
       "    </tr>\n",
       "    <tr>\n",
       "      <th>54</th>\n",
       "      <td>ANG</td>\n",
       "      <td>2016</td>\n",
       "      <td>10</td>\n",
       "      <td>26</td>\n",
       "      <td>0.0</td>\n",
       "      <td>0</td>\n",
       "      <td>3.0</td>\n",
       "    </tr>\n",
       "  </tbody>\n",
       "</table>\n",
       "</div>"
      ],
      "text/plain": [
       "   team  year  events  athletes  prev_medals  medals  pred\n",
       "6   AFG  2012       6         6          1.0       1   0.0\n",
       "7   AFG  2016       3         3          1.0       0   1.0\n",
       "23  ALB  2012       9        10          0.0       0   0.0\n",
       "24  ALB  2016       6         6          0.0       0   0.0\n",
       "35  ALG  2012      29        39          2.0       1   0.0\n",
       "36  ALG  2016      48        74          1.0       2   0.0\n",
       "45  AND  2012       6         6          0.0       0   0.0\n",
       "46  AND  2016       4         4          0.0       0   0.0\n",
       "53  ANG  2012      10        35          0.0       0   5.0\n",
       "54  ANG  2016      10        26          0.0       0   3.0"
      ]
     },
     "execution_count": 21,
     "metadata": {},
     "output_type": "execute_result"
    }
   ],
   "source": [
    "non_normalised_test_df.head(10)"
   ]
  },
  {
   "cell_type": "code",
   "execution_count": 22,
   "id": "8f947f59",
   "metadata": {},
   "outputs": [
    {
     "data": {
      "text/plain": [
       "0.9290930012574431"
      ]
     },
     "execution_count": 22,
     "metadata": {},
     "output_type": "execute_result"
    }
   ],
   "source": [
    "r2_score(non_normalised_test_df['medals'], non_normalised_test_df['pred'])"
   ]
  },
  {
   "cell_type": "markdown",
   "id": "77ac3170",
   "metadata": {},
   "source": [
    "### Normalized Model"
   ]
  },
  {
   "cell_type": "code",
   "execution_count": 23,
   "id": "bda49034",
   "metadata": {},
   "outputs": [
    {
     "name": "stdout",
     "output_type": "stream",
     "text": [
      "Peak to Peak range by column in Raw        X:[269. 838. 442.]\n",
      "Peak to Peak range by column in Normalized X:[ 5.38374166  6.36005069 13.69424679]\n"
     ]
    }
   ],
   "source": [
    "scaler = StandardScaler()\n",
    "X_norm = scaler.fit_transform(X_train)\n",
    "print(f\"Peak to Peak range by column in Raw        X:{np.ptp(X_train,axis=0)}\")   \n",
    "print(f\"Peak to Peak range by column in Normalized X:{np.ptp(X_norm,axis=0)}\")"
   ]
  },
  {
   "cell_type": "code",
   "execution_count": 24,
   "id": "7b5050cb",
   "metadata": {},
   "outputs": [
    {
     "data": {
      "text/plain": [
       "LinearRegression()"
      ]
     },
     "execution_count": 24,
     "metadata": {},
     "output_type": "execute_result"
    }
   ],
   "source": [
    "sgdr = LinearRegression()\n",
    "sgdr.fit(X_norm,y_train)"
   ]
  },
  {
   "cell_type": "code",
   "execution_count": 25,
   "id": "a93a50ab",
   "metadata": {},
   "outputs": [
    {
     "name": "stdout",
     "output_type": "stream",
     "text": [
      "model parameters:                   w: [-19.78356416  30.56218794  22.01001034], b:11.293349906774392\n"
     ]
    }
   ],
   "source": [
    "b_norm = sgdr.intercept_\n",
    "w_norm = sgdr.coef_\n",
    "print(f\"model parameters:                   w: {w_norm}, b:{b_norm}\")"
   ]
  },
  {
   "cell_type": "code",
   "execution_count": 26,
   "id": "bf0a5d53",
   "metadata": {},
   "outputs": [
    {
     "name": "stdout",
     "output_type": "stream",
     "text": [
      "prediction using np.dot() and sgdr.predict match: True\n",
      "Prediction on training set:\n",
      "[-0.59527893 -0.10330015 -0.59527893 -1.0872577 ]\n",
      "Target values \n",
      "[0 0 0 0]\n"
     ]
    }
   ],
   "source": [
    "# make a prediction using sgdr.predict()\n",
    "y_norm_pred_sgd = sgdr.predict(X_norm)\n",
    "# make a prediction using w,b. \n",
    "y_norm_pred = np.dot(X_norm, w_norm) + b_norm  \n",
    "print(f\"prediction using np.dot() and sgdr.predict match: {(y_pred == y_pred_sgd).all()}\")\n",
    "\n",
    "print(f\"Prediction on training set:\\n{y_pred[:4]}\" )\n",
    "print(f\"Target values \\n{y_train[:4]}\")"
   ]
  },
  {
   "cell_type": "code",
   "execution_count": 27,
   "id": "78e13076",
   "metadata": {},
   "outputs": [
    {
     "data": {
      "image/png": "[encoded data removed]",
      "text/plain": [
       "<Figure size 864x216 with 3 Axes>"
      ]
     },
     "metadata": {
      "needs_background": "light"
     },
     "output_type": "display_data"
    }
   ],
   "source": [
    "# plot predictions and targets vs original features    \n",
    "fig,ax=plt.subplots(1,3,figsize=(12,3),sharey=True)\n",
    "for i in range(len(ax)):\n",
    "    ax[i].scatter(X_norm[:,i],y_train, label = 'train_target_norm')\n",
    "    ax[i].set_xlabel(X_features[i])\n",
    "    ax[i].scatter(X_norm[:,i],y_norm_pred_sgd,color='g', label = 'train_predict_norm')\n",
    "ax[0].set_ylabel(\"Medals\"); ax[0].legend();\n",
    "fig.suptitle(\"target versus prediction using z-score normalized model\")\n",
    "plt.show()"
   ]
  },
  {
   "cell_type": "code",
   "execution_count": 28,
   "id": "e041f511",
   "metadata": {},
   "outputs": [],
   "source": [
    "X_test=np.array(test_df[['events','athletes','prev_medals']])\n",
    "y_test=np.array(test_df['medals'])"
   ]
  },
  {
   "cell_type": "code",
   "execution_count": 29,
   "id": "6b20617e",
   "metadata": {},
   "outputs": [],
   "source": [
    "X_test_norm = scaler.fit_transform(X_test)"
   ]
  },
  {
   "cell_type": "code",
   "execution_count": 30,
   "id": "313b8723",
   "metadata": {
    "scrolled": true
   },
   "outputs": [],
   "source": [
    "y_test_norm_pred = sgdr.predict(X_test_norm)\n"
   ]
  },
  {
   "cell_type": "code",
   "execution_count": 31,
   "id": "91370573",
   "metadata": {},
   "outputs": [
    {
     "data": {
      "text/plain": [
       "(405,)"
      ]
     },
     "execution_count": 31,
     "metadata": {},
     "output_type": "execute_result"
    }
   ],
   "source": [
    "y_test_norm_pred.shape"
   ]
  },
  {
   "cell_type": "code",
   "execution_count": 32,
   "id": "67fe1b6c",
   "metadata": {},
   "outputs": [
    {
     "data": {
      "image/png": "[encoded data removed]",
      "text/plain": [
       "<Figure size 864x216 with 3 Axes>"
      ]
     },
     "metadata": {
      "needs_background": "light"
     },
     "output_type": "display_data"
    }
   ],
   "source": [
    "fig,ax=plt.subplots(1,3,figsize=(12,3),sharey=True)\n",
    "for i in range(len(ax)):\n",
    "    ax[i].scatter(X_test_norm[:,i],y_test, label = 'target')\n",
    "    ax[i].set_xlabel(X_features[i])\n",
    "    ax[i].scatter(X_test_norm[:,i],y_test_norm_pred,color='g', label = 'predict')\n",
    "ax[0].set_ylabel(\"Medals\"); ax[0].legend();\n",
    "fig.suptitle(\"target versus prediction using z-score normalized model\")\n",
    "plt.show()"
   ]
  },
  {
   "cell_type": "code",
   "execution_count": 33,
   "id": "590a871a",
   "metadata": {
    "scrolled": true
   },
   "outputs": [],
   "source": [
    "norm_test_df=test_df.copy()\n",
    "norm_test_df['pred']=np.where(y_test_norm_pred<0,0,np.round(y_test_norm_pred))"
   ]
  },
  {
   "cell_type": "code",
   "execution_count": 34,
   "id": "e68cad2c",
   "metadata": {},
   "outputs": [
    {
     "data": {
      "text/html": [
       "<div>\n",
       "<style scoped>\n",
       "    .dataframe tbody tr th:only-of-type {\n",
       "        vertical-align: middle;\n",
       "    }\n",
       "\n",
       "    .dataframe tbody tr th {\n",
       "        vertical-align: top;\n",
       "    }\n",
       "\n",
       "    .dataframe thead th {\n",
       "        text-align: right;\n",
       "    }\n",
       "</style>\n",
       "<table border=\"1\" class=\"dataframe\">\n",
       "  <thead>\n",
       "    <tr style=\"text-align: right;\">\n",
       "      <th></th>\n",
       "      <th>team</th>\n",
       "      <th>year</th>\n",
       "      <th>events</th>\n",
       "      <th>athletes</th>\n",
       "      <th>prev_medals</th>\n",
       "      <th>medals</th>\n",
       "      <th>pred</th>\n",
       "    </tr>\n",
       "  </thead>\n",
       "  <tbody>\n",
       "    <tr>\n",
       "      <th>6</th>\n",
       "      <td>AFG</td>\n",
       "      <td>2012</td>\n",
       "      <td>6</td>\n",
       "      <td>6</td>\n",
       "      <td>1.0</td>\n",
       "      <td>1</td>\n",
       "      <td>1.0</td>\n",
       "    </tr>\n",
       "    <tr>\n",
       "      <th>7</th>\n",
       "      <td>AFG</td>\n",
       "      <td>2016</td>\n",
       "      <td>3</td>\n",
       "      <td>3</td>\n",
       "      <td>1.0</td>\n",
       "      <td>0</td>\n",
       "      <td>2.0</td>\n",
       "    </tr>\n",
       "    <tr>\n",
       "      <th>23</th>\n",
       "      <td>ALB</td>\n",
       "      <td>2012</td>\n",
       "      <td>9</td>\n",
       "      <td>10</td>\n",
       "      <td>0.0</td>\n",
       "      <td>0</td>\n",
       "      <td>0.0</td>\n",
       "    </tr>\n",
       "    <tr>\n",
       "      <th>24</th>\n",
       "      <td>ALB</td>\n",
       "      <td>2016</td>\n",
       "      <td>6</td>\n",
       "      <td>6</td>\n",
       "      <td>0.0</td>\n",
       "      <td>0</td>\n",
       "      <td>0.0</td>\n",
       "    </tr>\n",
       "    <tr>\n",
       "      <th>35</th>\n",
       "      <td>ALG</td>\n",
       "      <td>2012</td>\n",
       "      <td>29</td>\n",
       "      <td>39</td>\n",
       "      <td>2.0</td>\n",
       "      <td>1</td>\n",
       "      <td>1.0</td>\n",
       "    </tr>\n",
       "    <tr>\n",
       "      <th>36</th>\n",
       "      <td>ALG</td>\n",
       "      <td>2016</td>\n",
       "      <td>48</td>\n",
       "      <td>74</td>\n",
       "      <td>1.0</td>\n",
       "      <td>2</td>\n",
       "      <td>2.0</td>\n",
       "    </tr>\n",
       "    <tr>\n",
       "      <th>45</th>\n",
       "      <td>AND</td>\n",
       "      <td>2012</td>\n",
       "      <td>6</td>\n",
       "      <td>6</td>\n",
       "      <td>0.0</td>\n",
       "      <td>0</td>\n",
       "      <td>0.0</td>\n",
       "    </tr>\n",
       "    <tr>\n",
       "      <th>46</th>\n",
       "      <td>AND</td>\n",
       "      <td>2016</td>\n",
       "      <td>4</td>\n",
       "      <td>4</td>\n",
       "      <td>0.0</td>\n",
       "      <td>0</td>\n",
       "      <td>1.0</td>\n",
       "    </tr>\n",
       "    <tr>\n",
       "      <th>53</th>\n",
       "      <td>ANG</td>\n",
       "      <td>2012</td>\n",
       "      <td>10</td>\n",
       "      <td>35</td>\n",
       "      <td>0.0</td>\n",
       "      <td>0</td>\n",
       "      <td>6.0</td>\n",
       "    </tr>\n",
       "    <tr>\n",
       "      <th>54</th>\n",
       "      <td>ANG</td>\n",
       "      <td>2016</td>\n",
       "      <td>10</td>\n",
       "      <td>26</td>\n",
       "      <td>0.0</td>\n",
       "      <td>0</td>\n",
       "      <td>4.0</td>\n",
       "    </tr>\n",
       "  </tbody>\n",
       "</table>\n",
       "</div>"
      ],
      "text/plain": [
       "   team  year  events  athletes  prev_medals  medals  pred\n",
       "6   AFG  2012       6         6          1.0       1   1.0\n",
       "7   AFG  2016       3         3          1.0       0   2.0\n",
       "23  ALB  2012       9        10          0.0       0   0.0\n",
       "24  ALB  2016       6         6          0.0       0   0.0\n",
       "35  ALG  2012      29        39          2.0       1   1.0\n",
       "36  ALG  2016      48        74          1.0       2   2.0\n",
       "45  AND  2012       6         6          0.0       0   0.0\n",
       "46  AND  2016       4         4          0.0       0   1.0\n",
       "53  ANG  2012      10        35          0.0       0   6.0\n",
       "54  ANG  2016      10        26          0.0       0   4.0"
      ]
     },
     "execution_count": 34,
     "metadata": {},
     "output_type": "execute_result"
    }
   ],
   "source": [
    "norm_test_df.head(10)"
   ]
  },
  {
   "cell_type": "code",
   "execution_count": 35,
   "id": "8c3db9b8",
   "metadata": {},
   "outputs": [
    {
     "data": {
      "text/plain": [
       "0.8982108785387276"
      ]
     },
     "execution_count": 35,
     "metadata": {},
     "output_type": "execute_result"
    }
   ],
   "source": [
    "r2_score(norm_test_df['medals'], norm_test_df['pred'])"
   ]
  },
  {
   "cell_type": "code",
   "execution_count": 36,
   "id": "0030dcdf",
   "metadata": {},
   "outputs": [],
   "source": [
    "norm_test_df.to_csv('normalised_pred.csv')\n",
    "non_normalised_test_df.to_csv('non_normalised_pred.csv')"
   ]
  },
  {
   "cell_type": "markdown",
   "id": "c078cad2",
   "metadata": {},
   "source": [
    "### MAE Test"
   ]
  },
  {
   "cell_type": "code",
   "execution_count": 37,
   "id": "190b7c5e",
   "metadata": {},
   "outputs": [],
   "source": [
    "from sklearn.metrics import mean_absolute_error"
   ]
  },
  {
   "cell_type": "code",
   "execution_count": 38,
   "id": "dfa02499",
   "metadata": {},
   "outputs": [
    {
     "data": {
      "text/plain": [
       "3.269135802469136"
      ]
     },
     "execution_count": 38,
     "metadata": {},
     "output_type": "execute_result"
    }
   ],
   "source": [
    "error = mean_absolute_error(non_normalised_test_df['medals'],non_normalised_test_df['pred'])\n",
    "error"
   ]
  },
  {
   "cell_type": "code",
   "execution_count": 39,
   "id": "383104ed",
   "metadata": {},
   "outputs": [
    {
     "data": {
      "text/plain": [
       "3.977777777777778"
      ]
     },
     "execution_count": 39,
     "metadata": {},
     "output_type": "execute_result"
    }
   ],
   "source": [
    "error_norm = mean_absolute_error(norm_test_df['medals'],norm_test_df['pred'])\n",
    "error_norm"
   ]
  },
  {
   "cell_type": "markdown",
   "id": "b9b11fa0",
   "metadata": {},
   "source": [
    "### Summary"
   ]
  },
  {
   "cell_type": "markdown",
   "id": "850b9e0a",
   "metadata": {},
   "source": [
    ">The normalised model performed worse than the non-normalised model in both r2 score & mae.\n",
    "\n",
    ">This is likely due to the more important features having higher weights in the dataset.\n",
    "\n",
    ">In general, the normal model predicts well with an r2 score of 0.92 and a mae of 3.27. "
   ]
  },
  {
   "cell_type": "code",
   "execution_count": null,
   "id": "6b26792f",
   "metadata": {},
   "outputs": [],
   "source": []
  }
 ],
 "metadata": {
  "kernelspec": {
   "display_name": "Python 3",
   "language": "python",
   "name": "python3"
  },
  "language_info": {
   "codemirror_mode": {
    "name": "ipython",
    "version": 3
   },
   "file_extension": ".py",
   "mimetype": "text/x-python",
   "name": "python",
   "nbconvert_exporter": "python",
   "pygments_lexer": "ipython3",
   "version": "3.8.8"
  }
 },
 "nbformat": 4,
 "nbformat_minor": 5
}
